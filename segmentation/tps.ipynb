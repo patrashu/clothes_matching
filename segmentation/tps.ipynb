{
 "cells": [
  {
   "cell_type": "code",
   "execution_count": 64,
   "metadata": {},
   "outputs": [],
   "source": [
    "import cv2\n",
    "import math\n",
    "import numpy as np\n",
    "from typing import List\n",
    "from collections import deque"
   ]
  },
  {
   "cell_type": "code",
   "execution_count": 65,
   "metadata": {},
   "outputs": [],
   "source": [
    "img1 = cv2.imread(\"model1.png\")\n",
    "mask1 = cv2.imread(\"model1_class2.png\", cv2.IMREAD_GRAYSCALE)\n",
    "w, h = img1.shape[:2]\n",
    "\n",
    "img2 = cv2.imread(\"model2.jpg\")\n",
    "mask2 = cv2.imread(\"model2_class2.png\", cv2.IMREAD_GRAYSCALE)\n",
    "img2 = cv2.resize(img2, (h, w))\n",
    "mask2 = cv2.resize(mask2, (h, w), interpolation=cv2.INTER_LINEAR)"
   ]
  },
  {
   "cell_type": "code",
   "execution_count": 66,
   "metadata": {},
   "outputs": [],
   "source": [
    "contours1, _ = cv2.findContours(mask1, cv2.RETR_EXTERNAL, cv2.CHAIN_APPROX_NONE)\n",
    "contours2, _ = cv2.findContours(mask2, cv2.RETR_EXTERNAL, cv2.CHAIN_APPROX_NONE)"
   ]
  },
  {
   "cell_type": "code",
   "execution_count": 67,
   "metadata": {},
   "outputs": [],
   "source": [
    "for contour in contours1:\n",
    "    epsilon = cv2.arcLength(contour, True) * 0.001\n",
    "    approx_poly1 = cv2.approxPolyDP(contour, epsilon, True)\n",
    "\n",
    "for contour in contours2:\n",
    "    epsilon = cv2.arcLength(contour, True) * 0.001\n",
    "    approx_poly2 = cv2.approxPolyDP(contour, epsilon, True)"
   ]
  },
  {
   "cell_type": "code",
   "execution_count": 68,
   "metadata": {},
   "outputs": [],
   "source": [
    "import random\n",
    "\n",
    "approx_poly1 = random.sample(list(approx_poly1), 50)\n",
    "approx_poly1 = np.array(approx_poly1)\n",
    "\n",
    "approx_poly2 = random.sample(list(approx_poly2), 50)\n",
    "approx_poly2 = np.array(approx_poly2)"
   ]
  },
  {
   "cell_type": "code",
   "execution_count": 69,
   "metadata": {},
   "outputs": [],
   "source": [
    "sorted_approx_poly1 = sorted(approx_poly1.squeeze(axis=1).tolist(), key=lambda x: x[0])\n",
    "sorted_approx_poly2 = sorted(approx_poly2.squeeze(axis=1).tolist(), key=lambda x: x[0])"
   ]
  },
  {
   "cell_type": "code",
   "execution_count": 70,
   "metadata": {},
   "outputs": [],
   "source": [
    "def connect_shortest_pt(src):\n",
    "    start_pt = src[0]\n",
    "    answer = [start_pt]\n",
    "    queue = deque(src)\n",
    "    while queue:\n",
    "        cx, cy = queue.popleft()\n",
    "        dist = 1e9\n",
    "        idx = 0\n",
    "\n",
    "        for i in range(len(queue)):\n",
    "            px, py = queue[i]\n",
    "            if dist > math.sqrt((px-cx)**2 + (py-cy)**2):\n",
    "                dist = math.sqrt((px-cx)**2 + (py-cy)**2)\n",
    "                idx = i\n",
    "\n",
    "        if queue:\n",
    "            number = queue[idx]\n",
    "            queue.remove(number)\n",
    "            answer.append(number)\n",
    "            queue.appendleft(number)\n",
    "        else:\n",
    "            answer.append(number)\n",
    "\n",
    "    return answer"
   ]
  },
  {
   "cell_type": "code",
   "execution_count": 71,
   "metadata": {},
   "outputs": [],
   "source": [
    "real_sorted_approx_poly1 = connect_shortest_pt(sorted_approx_poly1)\n",
    "real_sorted_approx_poly2 = connect_shortest_pt(sorted_approx_poly2)"
   ]
  },
  {
   "cell_type": "code",
   "execution_count": 72,
   "metadata": {},
   "outputs": [
    {
     "data": {
      "text/plain": [
       "True"
      ]
     },
     "execution_count": 72,
     "metadata": {},
     "output_type": "execute_result"
    }
   ],
   "source": [
    "h, w = img1.shape[:2]\n",
    "test_img1 = np.zeros((h, w), dtype=np.uint8)\n",
    "\n",
    "n_pts1 = np.array(real_sorted_approx_poly1, np.int32)\n",
    "n_pts1 = n_pts1.reshape(-1, 1, 2)\n",
    "\n",
    "img1_mask = cv2.fillPoly(test_img1, [n_pts1], color=255)\n",
    "cv2.imwrite(\"test1.png\", img1_mask)"
   ]
  },
  {
   "cell_type": "code",
   "execution_count": 73,
   "metadata": {},
   "outputs": [
    {
     "data": {
      "text/plain": [
       "True"
      ]
     },
     "execution_count": 73,
     "metadata": {},
     "output_type": "execute_result"
    }
   ],
   "source": [
    "h, w = img2.shape[:2]\n",
    "test_img2 = np.zeros((h, w), dtype=np.uint8)\n",
    "\n",
    "n_pts2 = np.array(real_sorted_approx_poly2, np.int32)\n",
    "n_pts2 = n_pts2.reshape(-1, 1, 2)\n",
    "\n",
    "img2_mask = cv2.fillPoly(test_img2, [n_pts2], color=255)\n",
    "cv2.imwrite(\"test2.png\", img2_mask)"
   ]
  },
  {
   "cell_type": "code",
   "execution_count": 74,
   "metadata": {},
   "outputs": [],
   "source": [
    "real_sorted_approx_poly1 = real_sorted_approx_poly1[:-1]\n",
    "real_sorted_approx_poly2 = real_sorted_approx_poly2[:-1]"
   ]
  },
  {
   "cell_type": "code",
   "execution_count": 75,
   "metadata": {},
   "outputs": [],
   "source": [
    "if real_sorted_approx_poly1[0][1] < real_sorted_approx_poly1[1][1]:\n",
    "    datas = [real_sorted_approx_poly1[0]]\n",
    "    for idx in range(len(real_sorted_approx_poly1)-1, 0, -1):\n",
    "        datas.append(real_sorted_approx_poly1[idx])\n",
    "    real_sorted_approx_poly1 = datas\n",
    "\n",
    "if real_sorted_approx_poly2[0][1] < real_sorted_approx_poly2[1][1]:\n",
    "    datas = [real_sorted_approx_poly2[0]]\n",
    "    for idx in range(len(real_sorted_approx_poly2)-1, 0, -1):\n",
    "        datas.append(real_sorted_approx_poly2[idx])\n",
    "    real_sorted_approx_poly2 = datas"
   ]
  },
  {
   "cell_type": "code",
   "execution_count": 76,
   "metadata": {},
   "outputs": [],
   "source": [
    "point_on_mask1 = np.array(real_sorted_approx_poly1).astype(np.float32)\n",
    "point_on_mask2 = np.array(real_sorted_approx_poly2).astype(np.float32)\n",
    "\n",
    "point_on_mask1 = point_on_mask1.reshape(1, -1, 2)\n",
    "point_on_mask2 = point_on_mask2.reshape(1, -1, 2)"
   ]
  },
  {
   "cell_type": "code",
   "execution_count": 77,
   "metadata": {},
   "outputs": [],
   "source": [
    "tps = cv2.createThinPlateSplineShapeTransformer()\n",
    "matches = [cv2.DMatch(k, k, 0) for k in range(len(point_on_mask1[0]))]"
   ]
  },
  {
   "cell_type": "code",
   "execution_count": 78,
   "metadata": {},
   "outputs": [],
   "source": [
    "test1 = cv2.imread(\"test1.png\")\n",
    "origin_src = cv2.bitwise_and(img1, test1)\n",
    "test2 = cv2.imread(\"test2.png\")\n",
    "dist_src = cv2.bitwise_and(img2, test2)\n",
    "\n",
    "tps.estimateTransformation(point_on_mask2, point_on_mask1, matches)\n",
    "warped_img = tps.warpImage(origin_src)"
   ]
  },
  {
   "cell_type": "code",
   "execution_count": 79,
   "metadata": {},
   "outputs": [
    {
     "data": {
      "text/plain": [
       "True"
      ]
     },
     "execution_count": 79,
     "metadata": {},
     "output_type": "execute_result"
    }
   ],
   "source": [
    "cv2.imwrite(\"result.jpg\", warped_img)"
   ]
  },
  {
   "cell_type": "code",
   "execution_count": null,
   "metadata": {},
   "outputs": [],
   "source": []
  }
 ],
 "metadata": {
  "kernelspec": {
   "display_name": "cnai",
   "language": "python",
   "name": "python3"
  },
  "language_info": {
   "codemirror_mode": {
    "name": "ipython",
    "version": 3
   },
   "file_extension": ".py",
   "mimetype": "text/x-python",
   "name": "python",
   "nbconvert_exporter": "python",
   "pygments_lexer": "ipython3",
   "version": "3.9.16"
  },
  "orig_nbformat": 4
 },
 "nbformat": 4,
 "nbformat_minor": 2
}
