{
 "cells": [
  {
   "cell_type": "code",
   "execution_count": 1,
   "metadata": {},
   "outputs": [],
   "source": [
    "import cv2\n",
    "import numpy as np"
   ]
  },
  {
   "cell_type": "code",
   "execution_count": 2,
   "metadata": {},
   "outputs": [],
   "source": [
    "img1 = cv2.imread(\"model1.png\")\n",
    "mask1 = cv2.imread(\"model1_class2.png\", cv2.IMREAD_GRAYSCALE)\n",
    "\n",
    "img2 = cv2.imread(\"model2.jpg\")\n",
    "mask2 = cv2.imread(\"model2_class2.png\", cv2.IMREAD_GRAYSCALE)"
   ]
  },
  {
   "cell_type": "code",
   "execution_count": 3,
   "metadata": {},
   "outputs": [],
   "source": [
    "contours1, _ = cv2.findContours(mask1, cv2.RETR_EXTERNAL, cv2.CHAIN_APPROX_NONE)\n",
    "contours2, _ = cv2.findContours(mask2, cv2.RETR_EXTERNAL, cv2.CHAIN_APPROX_NONE)"
   ]
  },
  {
   "cell_type": "code",
   "execution_count": 4,
   "metadata": {},
   "outputs": [],
   "source": [
    "for contour in contours1:\n",
    "    epsilon = cv2.arcLength(contour, True) * 0.001\n",
    "    approx_poly1 = cv2.approxPolyDP(contour, epsilon, True)\n",
    "\n",
    "for contour in contours2:\n",
    "    epsilon = cv2.arcLength(contour, True) * 0.001\n",
    "    approx_poly2 = cv2.approxPolyDP(contour, epsilon, True)"
   ]
  },
  {
   "cell_type": "code",
   "execution_count": 5,
   "metadata": {},
   "outputs": [],
   "source": [
    "import random\n",
    "\n",
    "approx_poly1 = random.sample(list(approx_poly1), 50)\n",
    "approx_poly1 = np.array(approx_poly1)\n",
    "\n",
    "approx_poly2 = random.sample(list(approx_poly2), 50)\n",
    "approx_poly2 = np.array(approx_poly2)"
   ]
  },
  {
   "cell_type": "code",
   "execution_count": null,
   "metadata": {},
   "outputs": [],
   "source": []
  },
  {
   "cell_type": "code",
   "execution_count": null,
   "metadata": {},
   "outputs": [],
   "source": []
  },
  {
   "cell_type": "code",
   "execution_count": null,
   "metadata": {},
   "outputs": [],
   "source": []
  },
  {
   "cell_type": "code",
   "execution_count": null,
   "metadata": {},
   "outputs": [],
   "source": []
  },
  {
   "cell_type": "code",
   "execution_count": 20,
   "metadata": {},
   "outputs": [
    {
     "data": {
      "text/plain": [
       "True"
      ]
     },
     "execution_count": 20,
     "metadata": {},
     "output_type": "execute_result"
    }
   ],
   "source": [
    "h, w = img1.shape[:2]\n",
    "test_img1 = np.zeros((h, w), dtype=np.uint8)\n",
    "\n",
    "n_pts1 = np.array(sorted_coords, np.int32)\n",
    "n_pts1 = n_pts1.reshape(-1, 1, 2)\n",
    "\n",
    "img1_mask = cv2.fillPoly(test_img1, [n_pts1], color=255)\n",
    "cv2.imwrite(\"test1.jpg\", img1_mask)"
   ]
  },
  {
   "cell_type": "code",
   "execution_count": 7,
   "metadata": {},
   "outputs": [
    {
     "data": {
      "text/plain": [
       "True"
      ]
     },
     "execution_count": 7,
     "metadata": {},
     "output_type": "execute_result"
    }
   ],
   "source": [
    "h, w = img2.shape[:2]\n",
    "test_img2 = np.zeros((h, w), dtype=np.uint8)\n",
    "\n",
    "n_pts2 = np.array(approx_poly2, np.int32)\n",
    "n_pts2 = n_pts2.reshape(-1, 1, 2)\n",
    "\n",
    "img2_mask = cv2.fillPoly(test_img2, [n_pts2], color=255)\n",
    "cv2.imwrite(\"test2.jpg\", img2_mask)"
   ]
  },
  {
   "cell_type": "code",
   "execution_count": null,
   "metadata": {},
   "outputs": [],
   "source": [
    "contours = sorted(\n",
    "    contours,\n",
    "    key=lambda x: cv2.boundingRect(x)[-1] * cv2.boundingRect(x)[-2],\n",
    "    reverse=True\n",
    ")[:2]"
   ]
  },
  {
   "cell_type": "code",
   "execution_count": null,
   "metadata": {},
   "outputs": [],
   "source": []
  }
 ],
 "metadata": {
  "kernelspec": {
   "display_name": "cnai",
   "language": "python",
   "name": "python3"
  },
  "language_info": {
   "codemirror_mode": {
    "name": "ipython",
    "version": 3
   },
   "file_extension": ".py",
   "mimetype": "text/x-python",
   "name": "python",
   "nbconvert_exporter": "python",
   "pygments_lexer": "ipython3",
   "version": "3.9.16"
  },
  "orig_nbformat": 4
 },
 "nbformat": 4,
 "nbformat_minor": 2
}
