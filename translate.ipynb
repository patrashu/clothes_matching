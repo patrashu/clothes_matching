{
 "cells": [
  {
   "cell_type": "code",
   "execution_count": 2,
   "metadata": {},
   "outputs": [],
   "source": [
    "import cv2\n",
    "import numpy as np"
   ]
  },
  {
   "cell_type": "code",
   "execution_count": 5,
   "metadata": {},
   "outputs": [],
   "source": [
    "img1 = cv2.imread(\"model1.png\")\n",
    "mask1 = cv2.imread(\"model1_class2.png\", cv2.IMREAD_GRAYSCALE)\n",
    "\n",
    "img2 = cv2.imread(\"model2.jpg\")\n",
    "mask2 = cv2.imread(\"model2_class2.png\", cv2.IMREAD_GRAYSCALE)"
   ]
  },
  {
   "cell_type": "code",
   "execution_count": 6,
   "metadata": {},
   "outputs": [],
   "source": [
    "contours1, _ = cv2.findContours(mask1, cv2.RETR_EXTERNAL, cv2.CHAIN_APPROX_NONE)\n",
    "contours2, _ = cv2.findContours(mask2, cv2.RETR_EXTERNAL, cv2.CHAIN_APPROX_NONE)"
   ]
  },
  {
   "cell_type": "code",
   "execution_count": 23,
   "metadata": {},
   "outputs": [],
   "source": [
    "for contour in contours1:\n",
    "    epsilon = cv2.arcLength(contour, True) * 0.001\n",
    "    approx_poly1 = cv2.approxPolyDP(contour, epsilon, True)\n",
    "\n",
    "for contour in contours2:\n",
    "    epsilon = cv2.arcLength(contour, True) * 0.001\n",
    "    approx_poly2 = cv2.approxPolyDP(contour, epsilon, True)"
   ]
  },
  {
   "cell_type": "code",
   "execution_count": 31,
   "metadata": {},
   "outputs": [
    {
     "data": {
      "text/plain": [
       "array([[[ 68, 438]],\n",
       "\n",
       "       [[208, 273]],\n",
       "\n",
       "       [[  1, 383]],\n",
       "\n",
       "       [[172, 621]],\n",
       "\n",
       "       [[348, 423]],\n",
       "\n",
       "       [[287, 601]],\n",
       "\n",
       "       [[314, 501]],\n",
       "\n",
       "       [[260, 254]],\n",
       "\n",
       "       [[317, 568]],\n",
       "\n",
       "       [[318, 548]],\n",
       "\n",
       "       [[322, 473]],\n",
       "\n",
       "       [[172, 258]],\n",
       "\n",
       "       [[ 73, 475]],\n",
       "\n",
       "       [[ 81, 580]],\n",
       "\n",
       "       [[188, 272]],\n",
       "\n",
       "       [[ 91, 609]],\n",
       "\n",
       "       [[ 86, 260]],\n",
       "\n",
       "       [[ 77, 574]],\n",
       "\n",
       "       [[  0, 359]],\n",
       "\n",
       "       [[346, 324]],\n",
       "\n",
       "       [[213, 613]],\n",
       "\n",
       "       [[264, 259]],\n",
       "\n",
       "       [[314, 538]],\n",
       "\n",
       "       [[304, 606]],\n",
       "\n",
       "       [[151, 243]],\n",
       "\n",
       "       [[303, 281]],\n",
       "\n",
       "       [[ 17, 406]],\n",
       "\n",
       "       [[ 34, 287]],\n",
       "\n",
       "       [[315, 489]],\n",
       "\n",
       "       [[ 72, 503]],\n",
       "\n",
       "       [[211, 615]],\n",
       "\n",
       "       [[322, 468]],\n",
       "\n",
       "       [[ 11, 328]],\n",
       "\n",
       "       [[235, 251]],\n",
       "\n",
       "       [[ 66, 433]],\n",
       "\n",
       "       [[ 75, 512]],\n",
       "\n",
       "       [[ 74, 521]],\n",
       "\n",
       "       [[321, 591]],\n",
       "\n",
       "       [[105, 251]],\n",
       "\n",
       "       [[292, 271]],\n",
       "\n",
       "       [[336, 306]],\n",
       "\n",
       "       [[158, 243]],\n",
       "\n",
       "       [[246, 249]],\n",
       "\n",
       "       [[  3, 341]],\n",
       "\n",
       "       [[128, 250]],\n",
       "\n",
       "       [[323, 291]],\n",
       "\n",
       "       [[292, 604]],\n",
       "\n",
       "       [[ 70, 468]],\n",
       "\n",
       "       [[ 47, 272]],\n",
       "\n",
       "       [[ 85, 598]]], dtype=int32)"
      ]
     },
     "execution_count": 31,
     "metadata": {},
     "output_type": "execute_result"
    }
   ],
   "source": [
    "import random\n",
    "\n",
    "approx_poly1 = random.sample(list(approx_poly1), 50)\n",
    "approx_poly1 = np.array(approx_poly1)\n",
    "\n",
    "approx_poly2 = random.sample(list(approx_poly2), 50)\n",
    "approx_poly2 = np.array(approx_poly2)"
   ]
  },
  {
   "cell_type": "code",
   "execution_count": 33,
   "metadata": {},
   "outputs": [],
   "source": [
    "pts1 = [\n",
    "       [ 12, 376],\n",
    "       [ 34, 335],\n",
    "       [ 79, 285],\n",
    "       [157, 257],\n",
    "       [180, 285],\n",
    "       [228, 292],\n",
    "       [244, 257],\n",
    "       [319, 300],\n",
    "       [339, 337],\n",
    "       [348, 378],\n",
    "       [317, 394],\n",
    "       [311, 355],\n",
    "       [299, 412],\n",
    "       [297, 528],\n",
    "       [245, 586],\n",
    "       [174, 597],\n",
    "       [ 99, 570],\n",
    "       [ 89, 508],\n",
    "       [ 88, 390],\n",
    "       [ 65, 413]]\n",
    "pts2 = [\n",
    "       [ 64, 279],\n",
    "       [ 80, 204],\n",
    "       [106, 115],\n",
    "       [203,  58],\n",
    "       [222, 103],\n",
    "       [275, 105],\n",
    "       [295,  58],\n",
    "       [381, 108],\n",
    "       [415, 193],\n",
    "       [437, 275],\n",
    "       [378, 298],\n",
    "       [362, 200],\n",
    "       [362, 349],\n",
    "       [366, 504],\n",
    "       [300, 512],\n",
    "       [224, 513],\n",
    "       [141, 511],\n",
    "       [141, 305],\n",
    "       [138, 210],\n",
    "       [124, 291]]"
   ]
  },
  {
   "cell_type": "code",
   "execution_count": 27,
   "metadata": {},
   "outputs": [
    {
     "name": "stdout",
     "output_type": "stream",
     "text": [
      "1\n",
      "2\n",
      "3\n",
      "4\n",
      "5\n",
      "6\n",
      "7\n",
      "8\n",
      "9\n",
      "10\n",
      "11\n",
      "12\n",
      "13\n"
     ]
    }
   ],
   "source": [
    "import cv2\n",
    "import numpy as np\n",
    "\n",
    "win_name = \"scanning\"\n",
    "img = cv2.imread(\"model1.png\")\n",
    "rows, cols = img.shape[:2]\n",
    "draw = img.copy()\n",
    "pts_cnt = 0\n",
    "pts = np.zeros((20, 2), dtype=np.float32)\n",
    "\n",
    "def onMouse(event, x, y, flags, param):\n",
    "    global pts_cnt\n",
    "    global pts1\n",
    "    flag = True\n",
    "    if flag and event == cv2.EVENT_LBUTTONDOWN:\n",
    "        # 좌표에 초록색 동그라미 표시\n",
    "        cv2.circle(draw, (x, y), 10, (0, 255, 0), -1)\n",
    "        cv2.imshow(win_name, draw)\n",
    "\n",
    "        # 마우스 좌표 저장\n",
    "        pts[pts_cnt] = [int(x), int(y)]\n",
    "        pts_cnt += 1\n",
    "        print(pts_cnt)\n",
    "        if pts_cnt == 20:\n",
    "            pts1 = pts\n",
    "            flag = False\n",
    "\n",
    "cv2.imshow(win_name, img)\n",
    "cv2.setMouseCallback(win_name, onMouse)\n",
    "cv2.waitKey(0)\n",
    "cv2.destroyAllWindows()"
   ]
  },
  {
   "cell_type": "code",
   "execution_count": 30,
   "metadata": {},
   "outputs": [
    {
     "name": "stdout",
     "output_type": "stream",
     "text": [
      "1\n",
      "2\n",
      "3\n",
      "4\n",
      "5\n",
      "6\n",
      "7\n",
      "8\n",
      "9\n",
      "10\n",
      "11\n",
      "12\n",
      "13\n",
      "14\n",
      "15\n",
      "16\n",
      "17\n",
      "18\n",
      "19\n",
      "20\n"
     ]
    }
   ],
   "source": [
    "import cv2\n",
    "import numpy as np\n",
    "\n",
    "win_name = \"scanning\"\n",
    "img = cv2.imread(\"model2.jpg\")\n",
    "rows, cols = img.shape[:2]\n",
    "draw = img.copy()\n",
    "pts_cnt = 0\n",
    "pts = np.zeros((20, 2), dtype=np.float32)\n",
    "\n",
    "def onMouse(event, x, y, flags, param):\n",
    "    global pts_cnt\n",
    "    global pts2\n",
    "    flag = True\n",
    "    if flag and event == cv2.EVENT_LBUTTONDOWN:\n",
    "        # 좌표에 초록색 동그라미 표시\n",
    "        cv2.circle(draw, (x, y), 10, (0, 255, 0), -1)\n",
    "        cv2.imshow(win_name, draw)\n",
    "\n",
    "        # 마우스 좌표 저장\n",
    "        pts[pts_cnt] = [int(x), int(y)]\n",
    "        pts_cnt += 1\n",
    "        print(pts_cnt)\n",
    "        if pts_cnt == 20:\n",
    "            pts2 = pts\n",
    "            flag = False\n",
    "\n",
    "cv2.imshow(win_name, img)\n",
    "cv2.setMouseCallback(win_name, onMouse)\n",
    "cv2.waitKey(0)\n",
    "cv2.destroyAllWindows()"
   ]
  },
  {
   "cell_type": "code",
   "execution_count": 108,
   "metadata": {},
   "outputs": [
    {
     "data": {
      "text/plain": [
       "True"
      ]
     },
     "execution_count": 108,
     "metadata": {},
     "output_type": "execute_result"
    }
   ],
   "source": [
    "h, w = img1.shape[:2]\n",
    "test_img1 = np.zeros((h, w), dtype=np.uint8)\n",
    "\n",
    "n_pts1 = np.array(pts1, np.int32)\n",
    "n_pts1 = n_pts1.reshape(-1, 1, 2)\n",
    "\n",
    "img1_mask = cv2.fillPoly(test_img1, [n_pts1], color=255)\n",
    "cv2.imwrite(\"test1.jpg\", img1_mask)"
   ]
  },
  {
   "cell_type": "code",
   "execution_count": 109,
   "metadata": {},
   "outputs": [
    {
     "data": {
      "text/plain": [
       "True"
      ]
     },
     "execution_count": 109,
     "metadata": {},
     "output_type": "execute_result"
    }
   ],
   "source": [
    "h, w = img2.shape[:2]\n",
    "test_img2 = np.zeros((h, w), dtype=np.uint8)\n",
    "\n",
    "n_pts2 = np.array(pts2, np.int32)\n",
    "n_pts2 = n_pts2.reshape(-1, 1, 2)\n",
    "\n",
    "img2_mask = cv2.fillPoly(test_img2, [n_pts2], color=255)\n",
    "cv2.imwrite(\"test2.jpg\", img2_mask)"
   ]
  },
  {
   "cell_type": "code",
   "execution_count": 34,
   "metadata": {},
   "outputs": [],
   "source": [
    "# 첫 번째 contour의 첫 번째 점 추출\n",
    "point_on_mask1 = np.array(pts1).astype(np.float32)\n",
    "point_on_mask2 = np.array(pts2).astype(np.float32)\n",
    "\n",
    "point_on_mask1 = point_on_mask1.reshape(1, -1, 2)\n",
    "point_on_mask2 = point_on_mask2.reshape(1, -1, 2)"
   ]
  },
  {
   "cell_type": "code",
   "execution_count": 36,
   "metadata": {},
   "outputs": [
    {
     "data": {
      "text/plain": [
       "(1, 20, 2)"
      ]
     },
     "execution_count": 36,
     "metadata": {},
     "output_type": "execute_result"
    }
   ],
   "source": [
    "point_on_mask1.shape"
   ]
  },
  {
   "cell_type": "code",
   "execution_count": 42,
   "metadata": {},
   "outputs": [],
   "source": [
    "# TPS 변형 객체 생성\n",
    "tps = cv2.createThinPlateSplineShapeTransformer()"
   ]
  },
  {
   "cell_type": "code",
   "execution_count": 43,
   "metadata": {},
   "outputs": [],
   "source": [
    "matches = [cv2.DMatch(i, i, 0) for i in range(len(point_on_mask1[0]))]"
   ]
  },
  {
   "cell_type": "code",
   "execution_count": 38,
   "metadata": {},
   "outputs": [],
   "source": [
    "test1 = cv2.imread(\"test1.png\")\n",
    "original_img1 = cv2.bitwise_and(img1, test1)\n",
    "test2 = cv2.imread(\"test2.png\")\n",
    "original_img2 = cv2.bitwise_and(img2, test2)"
   ]
  },
  {
   "cell_type": "code",
   "execution_count": 44,
   "metadata": {},
   "outputs": [],
   "source": [
    "tps.estimateTransformation(point_on_mask2, point_on_mask1, matches)\n",
    "\n",
    "# TPS 변형 적용\n",
    "warped_image = tps.warpImage(original_img1)"
   ]
  },
  {
   "cell_type": "code",
   "execution_count": 45,
   "metadata": {},
   "outputs": [
    {
     "data": {
      "text/plain": [
       "True"
      ]
     },
     "execution_count": 45,
     "metadata": {},
     "output_type": "execute_result"
    }
   ],
   "source": [
    "cv2.imwrite(\"result.jpg\", warped_image)"
   ]
  },
  {
   "cell_type": "code",
   "execution_count": 46,
   "metadata": {},
   "outputs": [
    {
     "data": {
      "text/plain": [
       "array([[[ 12., 376.],\n",
       "        [ 34., 335.],\n",
       "        [ 79., 285.],\n",
       "        [157., 257.],\n",
       "        [180., 285.],\n",
       "        [228., 292.],\n",
       "        [244., 257.],\n",
       "        [319., 300.],\n",
       "        [339., 337.],\n",
       "        [348., 378.],\n",
       "        [317., 394.],\n",
       "        [311., 355.],\n",
       "        [299., 412.],\n",
       "        [297., 528.],\n",
       "        [245., 586.],\n",
       "        [174., 597.],\n",
       "        [ 99., 570.],\n",
       "        [ 89., 508.],\n",
       "        [ 88., 390.],\n",
       "        [ 65., 413.]]], dtype=float32)"
      ]
     },
     "execution_count": 46,
     "metadata": {},
     "output_type": "execute_result"
    }
   ],
   "source": [
    "point_on_mask1"
   ]
  },
  {
   "cell_type": "code",
   "execution_count": null,
   "metadata": {},
   "outputs": [],
   "source": []
  }
 ],
 "metadata": {
  "kernelspec": {
   "display_name": "cnai",
   "language": "python",
   "name": "python3"
  },
  "language_info": {
   "codemirror_mode": {
    "name": "ipython",
    "version": 3
   },
   "file_extension": ".py",
   "mimetype": "text/x-python",
   "name": "python",
   "nbconvert_exporter": "python",
   "pygments_lexer": "ipython3",
   "version": "3.9.16"
  },
  "orig_nbformat": 4
 },
 "nbformat": 4,
 "nbformat_minor": 2
}
